{
 "cells": [
  {
   "cell_type": "markdown",
   "id": "85147fd2",
   "metadata": {},
   "source": [
    "# Task One: Data Preparation and Customer Analytics\n",
    "\n",
    "Conduct analysis on your client's transaction dataset and identify customer purchasing behaviours to generate insights and provide commercial recommendations."
   ]
  },
  {
   "cell_type": "code",
   "execution_count": 1,
   "id": "97e35b66",
   "metadata": {},
   "outputs": [],
   "source": [
    "# Load required libraries\n",
    "import pandas as pd\n",
    "import numpy as np\n",
    "import matplotlib.pyplot as plt\n",
    "import seaborn as sns"
   ]
  },
  {
   "cell_type": "code",
   "execution_count": 2,
   "id": "50fd50bb",
   "metadata": {},
   "outputs": [],
   "source": [
    "# Load both datasets\n",
    "transaction_data = pd.read_excel('../data/raw/QVI_transaction_data.xlsx')\n",
    "customer_data = pd.read_csv('../data/raw/QVI_purchase_behaviour.csv')"
   ]
  },
  {
   "cell_type": "markdown",
   "id": "ecc60ca1",
   "metadata": {},
   "source": [
    "## Exploratory Data Analysis (EDA)"
   ]
  }
 ],
 "metadata": {
  "language_info": {
   "name": "python"
  }
 },
 "nbformat": 4,
 "nbformat_minor": 5
}
