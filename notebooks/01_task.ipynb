{
 "cells": [
  {
   "cell_type": "markdown",
   "id": "85147fd2",
   "metadata": {},
   "source": [
    "# Task One: Data Preparation and Customer Analytics\n",
    "\n",
    "Conduct analysis on your client's transaction dataset and identify customer purchasing behaviours to generate insights and provide commercial recommendations."
   ]
  },
  {
   "cell_type": "code",
   "execution_count": 1,
   "id": "97e35b66",
   "metadata": {},
   "outputs": [],
   "source": [
    "# Load required libraries\n",
    "import pandas as pd\n",
    "import numpy as np\n",
    "import matplotlib.pyplot as plt\n",
    "import seaborn as sns"
   ]
  },
  {
   "cell_type": "code",
   "execution_count": 2,
   "id": "50fd50bb",
   "metadata": {},
   "outputs": [],
   "source": [
    "# Load both datasets\n",
    "transaction_data = pd.read_excel('../data/raw/QVI_transaction_data.xlsx')\n",
    "customer_data = pd.read_csv('../data/raw/QVI_purchase_behaviour.csv')"
   ]
  },
  {
   "cell_type": "markdown",
   "id": "ecc60ca1",
   "metadata": {},
   "source": [
    "## Exploratory Data Analysis (EDA)"
   ]
  },
  {
   "cell_type": "markdown",
   "id": "6a9992f1",
   "metadata": {},
   "source": [
    "### Examine transaction data"
   ]
  },
  {
   "cell_type": "code",
   "execution_count": 3,
   "id": "7487ea88",
   "metadata": {},
   "outputs": [
    {
     "data": {
      "application/vnd.microsoft.datawrangler.viewer.v0+json": {
       "columns": [
        {
         "name": "index",
         "rawType": "int64",
         "type": "integer"
        },
        {
         "name": "DATE",
         "rawType": "int64",
         "type": "integer"
        },
        {
         "name": "STORE_NBR",
         "rawType": "int64",
         "type": "integer"
        },
        {
         "name": "LYLTY_CARD_NBR",
         "rawType": "int64",
         "type": "integer"
        },
        {
         "name": "TXN_ID",
         "rawType": "int64",
         "type": "integer"
        },
        {
         "name": "PROD_NBR",
         "rawType": "int64",
         "type": "integer"
        },
        {
         "name": "PROD_NAME",
         "rawType": "object",
         "type": "string"
        },
        {
         "name": "PROD_QTY",
         "rawType": "int64",
         "type": "integer"
        },
        {
         "name": "TOT_SALES",
         "rawType": "float64",
         "type": "float"
        }
       ],
       "conversionMethod": "pd.DataFrame",
       "ref": "8e84d20d-839a-4ae3-a826-c8ea00debcfe",
       "rows": [
        [
         "0",
         "43390",
         "1",
         "1000",
         "1",
         "5",
         "Natural Chip        Compny SeaSalt175g",
         "2",
         "6.0"
        ],
        [
         "1",
         "43599",
         "1",
         "1307",
         "348",
         "66",
         "CCs Nacho Cheese    175g",
         "3",
         "6.3"
        ],
        [
         "2",
         "43605",
         "1",
         "1343",
         "383",
         "61",
         "Smiths Crinkle Cut  Chips Chicken 170g",
         "2",
         "2.9"
        ],
        [
         "3",
         "43329",
         "2",
         "2373",
         "974",
         "69",
         "Smiths Chip Thinly  S/Cream&Onion 175g",
         "5",
         "15.0"
        ],
        [
         "4",
         "43330",
         "2",
         "2426",
         "1038",
         "108",
         "Kettle Tortilla ChpsHny&Jlpno Chili 150g",
         "3",
         "13.8"
        ]
       ],
       "shape": {
        "columns": 8,
        "rows": 5
       }
      },
      "text/html": [
       "<div>\n",
       "<style scoped>\n",
       "    .dataframe tbody tr th:only-of-type {\n",
       "        vertical-align: middle;\n",
       "    }\n",
       "\n",
       "    .dataframe tbody tr th {\n",
       "        vertical-align: top;\n",
       "    }\n",
       "\n",
       "    .dataframe thead th {\n",
       "        text-align: right;\n",
       "    }\n",
       "</style>\n",
       "<table border=\"1\" class=\"dataframe\">\n",
       "  <thead>\n",
       "    <tr style=\"text-align: right;\">\n",
       "      <th></th>\n",
       "      <th>DATE</th>\n",
       "      <th>STORE_NBR</th>\n",
       "      <th>LYLTY_CARD_NBR</th>\n",
       "      <th>TXN_ID</th>\n",
       "      <th>PROD_NBR</th>\n",
       "      <th>PROD_NAME</th>\n",
       "      <th>PROD_QTY</th>\n",
       "      <th>TOT_SALES</th>\n",
       "    </tr>\n",
       "  </thead>\n",
       "  <tbody>\n",
       "    <tr>\n",
       "      <th>0</th>\n",
       "      <td>43390</td>\n",
       "      <td>1</td>\n",
       "      <td>1000</td>\n",
       "      <td>1</td>\n",
       "      <td>5</td>\n",
       "      <td>Natural Chip        Compny SeaSalt175g</td>\n",
       "      <td>2</td>\n",
       "      <td>6.0</td>\n",
       "    </tr>\n",
       "    <tr>\n",
       "      <th>1</th>\n",
       "      <td>43599</td>\n",
       "      <td>1</td>\n",
       "      <td>1307</td>\n",
       "      <td>348</td>\n",
       "      <td>66</td>\n",
       "      <td>CCs Nacho Cheese    175g</td>\n",
       "      <td>3</td>\n",
       "      <td>6.3</td>\n",
       "    </tr>\n",
       "    <tr>\n",
       "      <th>2</th>\n",
       "      <td>43605</td>\n",
       "      <td>1</td>\n",
       "      <td>1343</td>\n",
       "      <td>383</td>\n",
       "      <td>61</td>\n",
       "      <td>Smiths Crinkle Cut  Chips Chicken 170g</td>\n",
       "      <td>2</td>\n",
       "      <td>2.9</td>\n",
       "    </tr>\n",
       "    <tr>\n",
       "      <th>3</th>\n",
       "      <td>43329</td>\n",
       "      <td>2</td>\n",
       "      <td>2373</td>\n",
       "      <td>974</td>\n",
       "      <td>69</td>\n",
       "      <td>Smiths Chip Thinly  S/Cream&amp;Onion 175g</td>\n",
       "      <td>5</td>\n",
       "      <td>15.0</td>\n",
       "    </tr>\n",
       "    <tr>\n",
       "      <th>4</th>\n",
       "      <td>43330</td>\n",
       "      <td>2</td>\n",
       "      <td>2426</td>\n",
       "      <td>1038</td>\n",
       "      <td>108</td>\n",
       "      <td>Kettle Tortilla ChpsHny&amp;Jlpno Chili 150g</td>\n",
       "      <td>3</td>\n",
       "      <td>13.8</td>\n",
       "    </tr>\n",
       "  </tbody>\n",
       "</table>\n",
       "</div>"
      ],
      "text/plain": [
       "    DATE  STORE_NBR  LYLTY_CARD_NBR  TXN_ID  PROD_NBR  \\\n",
       "0  43390          1            1000       1         5   \n",
       "1  43599          1            1307     348        66   \n",
       "2  43605          1            1343     383        61   \n",
       "3  43329          2            2373     974        69   \n",
       "4  43330          2            2426    1038       108   \n",
       "\n",
       "                                  PROD_NAME  PROD_QTY  TOT_SALES  \n",
       "0    Natural Chip        Compny SeaSalt175g         2        6.0  \n",
       "1                  CCs Nacho Cheese    175g         3        6.3  \n",
       "2    Smiths Crinkle Cut  Chips Chicken 170g         2        2.9  \n",
       "3    Smiths Chip Thinly  S/Cream&Onion 175g         5       15.0  \n",
       "4  Kettle Tortilla ChpsHny&Jlpno Chili 150g         3       13.8  "
      ]
     },
     "execution_count": 3,
     "metadata": {},
     "output_type": "execute_result"
    }
   ],
   "source": [
    "transaction_data.head()"
   ]
  },
  {
   "cell_type": "code",
   "execution_count": 4,
   "id": "7af29de7",
   "metadata": {},
   "outputs": [
    {
     "name": "stdout",
     "output_type": "stream",
     "text": [
      "<class 'pandas.core.frame.DataFrame'>\n",
      "RangeIndex: 264836 entries, 0 to 264835\n",
      "Data columns (total 8 columns):\n",
      " #   Column          Non-Null Count   Dtype  \n",
      "---  ------          --------------   -----  \n",
      " 0   DATE            264836 non-null  int64  \n",
      " 1   STORE_NBR       264836 non-null  int64  \n",
      " 2   LYLTY_CARD_NBR  264836 non-null  int64  \n",
      " 3   TXN_ID          264836 non-null  int64  \n",
      " 4   PROD_NBR        264836 non-null  int64  \n",
      " 5   PROD_NAME       264836 non-null  object \n",
      " 6   PROD_QTY        264836 non-null  int64  \n",
      " 7   TOT_SALES       264836 non-null  float64\n",
      "dtypes: float64(1), int64(6), object(1)\n",
      "memory usage: 16.2+ MB\n"
     ]
    }
   ],
   "source": [
    "transaction_data.info()"
   ]
  },
  {
   "cell_type": "markdown",
   "id": "650d030c",
   "metadata": {},
   "source": [
    "We can see that there are **no missing values** in this dataset. However, the `DATE` column is of type **int64** and contains numeric values such as 43390 and 43599. These represent **serial dates**—a format that counts the number of days since a starting reference point, typically December 30, 1899, in Excel."
   ]
  },
  {
   "cell_type": "markdown",
   "id": "db8b60a9",
   "metadata": {},
   "source": [
    "### Examine `DATE`"
   ]
  },
  {
   "cell_type": "markdown",
   "id": "42364cf5",
   "metadata": {},
   "source": [
    "#### Convert serial dates to proper date format"
   ]
  },
  {
   "cell_type": "code",
   "execution_count": 5,
   "id": "5c2dda1e",
   "metadata": {},
   "outputs": [
    {
     "data": {
      "application/vnd.microsoft.datawrangler.viewer.v0+json": {
       "columns": [
        {
         "name": "index",
         "rawType": "int64",
         "type": "integer"
        },
        {
         "name": "DATE",
         "rawType": "datetime64[ns]",
         "type": "datetime"
        },
        {
         "name": "STORE_NBR",
         "rawType": "int64",
         "type": "integer"
        },
        {
         "name": "LYLTY_CARD_NBR",
         "rawType": "int64",
         "type": "integer"
        },
        {
         "name": "TXN_ID",
         "rawType": "int64",
         "type": "integer"
        },
        {
         "name": "PROD_NBR",
         "rawType": "int64",
         "type": "integer"
        },
        {
         "name": "PROD_NAME",
         "rawType": "object",
         "type": "string"
        },
        {
         "name": "PROD_QTY",
         "rawType": "int64",
         "type": "integer"
        },
        {
         "name": "TOT_SALES",
         "rawType": "float64",
         "type": "float"
        }
       ],
       "conversionMethod": "pd.DataFrame",
       "ref": "67ae00f5-6cbb-4c8f-b7ba-e0f0cc9f33bb",
       "rows": [
        [
         "0",
         "2018-10-17 00:00:00",
         "1",
         "1000",
         "1",
         "5",
         "Natural Chip        Compny SeaSalt175g",
         "2",
         "6.0"
        ],
        [
         "1",
         "2019-05-14 00:00:00",
         "1",
         "1307",
         "348",
         "66",
         "CCs Nacho Cheese    175g",
         "3",
         "6.3"
        ],
        [
         "2",
         "2019-05-20 00:00:00",
         "1",
         "1343",
         "383",
         "61",
         "Smiths Crinkle Cut  Chips Chicken 170g",
         "2",
         "2.9"
        ],
        [
         "3",
         "2018-08-17 00:00:00",
         "2",
         "2373",
         "974",
         "69",
         "Smiths Chip Thinly  S/Cream&Onion 175g",
         "5",
         "15.0"
        ],
        [
         "4",
         "2018-08-18 00:00:00",
         "2",
         "2426",
         "1038",
         "108",
         "Kettle Tortilla ChpsHny&Jlpno Chili 150g",
         "3",
         "13.8"
        ]
       ],
       "shape": {
        "columns": 8,
        "rows": 5
       }
      },
      "text/html": [
       "<div>\n",
       "<style scoped>\n",
       "    .dataframe tbody tr th:only-of-type {\n",
       "        vertical-align: middle;\n",
       "    }\n",
       "\n",
       "    .dataframe tbody tr th {\n",
       "        vertical-align: top;\n",
       "    }\n",
       "\n",
       "    .dataframe thead th {\n",
       "        text-align: right;\n",
       "    }\n",
       "</style>\n",
       "<table border=\"1\" class=\"dataframe\">\n",
       "  <thead>\n",
       "    <tr style=\"text-align: right;\">\n",
       "      <th></th>\n",
       "      <th>DATE</th>\n",
       "      <th>STORE_NBR</th>\n",
       "      <th>LYLTY_CARD_NBR</th>\n",
       "      <th>TXN_ID</th>\n",
       "      <th>PROD_NBR</th>\n",
       "      <th>PROD_NAME</th>\n",
       "      <th>PROD_QTY</th>\n",
       "      <th>TOT_SALES</th>\n",
       "    </tr>\n",
       "  </thead>\n",
       "  <tbody>\n",
       "    <tr>\n",
       "      <th>0</th>\n",
       "      <td>2018-10-17</td>\n",
       "      <td>1</td>\n",
       "      <td>1000</td>\n",
       "      <td>1</td>\n",
       "      <td>5</td>\n",
       "      <td>Natural Chip        Compny SeaSalt175g</td>\n",
       "      <td>2</td>\n",
       "      <td>6.0</td>\n",
       "    </tr>\n",
       "    <tr>\n",
       "      <th>1</th>\n",
       "      <td>2019-05-14</td>\n",
       "      <td>1</td>\n",
       "      <td>1307</td>\n",
       "      <td>348</td>\n",
       "      <td>66</td>\n",
       "      <td>CCs Nacho Cheese    175g</td>\n",
       "      <td>3</td>\n",
       "      <td>6.3</td>\n",
       "    </tr>\n",
       "    <tr>\n",
       "      <th>2</th>\n",
       "      <td>2019-05-20</td>\n",
       "      <td>1</td>\n",
       "      <td>1343</td>\n",
       "      <td>383</td>\n",
       "      <td>61</td>\n",
       "      <td>Smiths Crinkle Cut  Chips Chicken 170g</td>\n",
       "      <td>2</td>\n",
       "      <td>2.9</td>\n",
       "    </tr>\n",
       "    <tr>\n",
       "      <th>3</th>\n",
       "      <td>2018-08-17</td>\n",
       "      <td>2</td>\n",
       "      <td>2373</td>\n",
       "      <td>974</td>\n",
       "      <td>69</td>\n",
       "      <td>Smiths Chip Thinly  S/Cream&amp;Onion 175g</td>\n",
       "      <td>5</td>\n",
       "      <td>15.0</td>\n",
       "    </tr>\n",
       "    <tr>\n",
       "      <th>4</th>\n",
       "      <td>2018-08-18</td>\n",
       "      <td>2</td>\n",
       "      <td>2426</td>\n",
       "      <td>1038</td>\n",
       "      <td>108</td>\n",
       "      <td>Kettle Tortilla ChpsHny&amp;Jlpno Chili 150g</td>\n",
       "      <td>3</td>\n",
       "      <td>13.8</td>\n",
       "    </tr>\n",
       "  </tbody>\n",
       "</table>\n",
       "</div>"
      ],
      "text/plain": [
       "        DATE  STORE_NBR  LYLTY_CARD_NBR  TXN_ID  PROD_NBR  \\\n",
       "0 2018-10-17          1            1000       1         5   \n",
       "1 2019-05-14          1            1307     348        66   \n",
       "2 2019-05-20          1            1343     383        61   \n",
       "3 2018-08-17          2            2373     974        69   \n",
       "4 2018-08-18          2            2426    1038       108   \n",
       "\n",
       "                                  PROD_NAME  PROD_QTY  TOT_SALES  \n",
       "0    Natural Chip        Compny SeaSalt175g         2        6.0  \n",
       "1                  CCs Nacho Cheese    175g         3        6.3  \n",
       "2    Smiths Crinkle Cut  Chips Chicken 170g         2        2.9  \n",
       "3    Smiths Chip Thinly  S/Cream&Onion 175g         5       15.0  \n",
       "4  Kettle Tortilla ChpsHny&Jlpno Chili 150g         3       13.8  "
      ]
     },
     "execution_count": 5,
     "metadata": {},
     "output_type": "execute_result"
    }
   ],
   "source": [
    "transaction_data[\"DATE\"] = pd.to_datetime(transaction_data[\"DATE\"], origin=\"1899-12-30\", unit=\"D\")\n",
    "transaction_data.head()"
   ]
  },
  {
   "cell_type": "markdown",
   "id": "a04ff8fe",
   "metadata": {},
   "source": [
    "We're only interested in the date itself and won't need the time details later, so let's remove the timestamps and retain only the date."
   ]
  },
  {
   "cell_type": "markdown",
   "id": "b8ea480c",
   "metadata": {},
   "source": [
    "#### Remove timestamps"
   ]
  },
  {
   "cell_type": "code",
   "execution_count": 6,
   "id": "7498e624",
   "metadata": {},
   "outputs": [
    {
     "data": {
      "application/vnd.microsoft.datawrangler.viewer.v0+json": {
       "columns": [
        {
         "name": "index",
         "rawType": "int64",
         "type": "integer"
        },
        {
         "name": "DATE",
         "rawType": "object",
         "type": "unknown"
        },
        {
         "name": "STORE_NBR",
         "rawType": "int64",
         "type": "integer"
        },
        {
         "name": "LYLTY_CARD_NBR",
         "rawType": "int64",
         "type": "integer"
        },
        {
         "name": "TXN_ID",
         "rawType": "int64",
         "type": "integer"
        },
        {
         "name": "PROD_NBR",
         "rawType": "int64",
         "type": "integer"
        },
        {
         "name": "PROD_NAME",
         "rawType": "object",
         "type": "string"
        },
        {
         "name": "PROD_QTY",
         "rawType": "int64",
         "type": "integer"
        },
        {
         "name": "TOT_SALES",
         "rawType": "float64",
         "type": "float"
        }
       ],
       "conversionMethod": "pd.DataFrame",
       "ref": "5d3aefb0-faf7-44e1-bcc7-aa11dc075174",
       "rows": [
        [
         "0",
         "2018-10-17",
         "1",
         "1000",
         "1",
         "5",
         "Natural Chip        Compny SeaSalt175g",
         "2",
         "6.0"
        ],
        [
         "1",
         "2019-05-14",
         "1",
         "1307",
         "348",
         "66",
         "CCs Nacho Cheese    175g",
         "3",
         "6.3"
        ],
        [
         "2",
         "2019-05-20",
         "1",
         "1343",
         "383",
         "61",
         "Smiths Crinkle Cut  Chips Chicken 170g",
         "2",
         "2.9"
        ],
        [
         "3",
         "2018-08-17",
         "2",
         "2373",
         "974",
         "69",
         "Smiths Chip Thinly  S/Cream&Onion 175g",
         "5",
         "15.0"
        ],
        [
         "4",
         "2018-08-18",
         "2",
         "2426",
         "1038",
         "108",
         "Kettle Tortilla ChpsHny&Jlpno Chili 150g",
         "3",
         "13.8"
        ]
       ],
       "shape": {
        "columns": 8,
        "rows": 5
       }
      },
      "text/html": [
       "<div>\n",
       "<style scoped>\n",
       "    .dataframe tbody tr th:only-of-type {\n",
       "        vertical-align: middle;\n",
       "    }\n",
       "\n",
       "    .dataframe tbody tr th {\n",
       "        vertical-align: top;\n",
       "    }\n",
       "\n",
       "    .dataframe thead th {\n",
       "        text-align: right;\n",
       "    }\n",
       "</style>\n",
       "<table border=\"1\" class=\"dataframe\">\n",
       "  <thead>\n",
       "    <tr style=\"text-align: right;\">\n",
       "      <th></th>\n",
       "      <th>DATE</th>\n",
       "      <th>STORE_NBR</th>\n",
       "      <th>LYLTY_CARD_NBR</th>\n",
       "      <th>TXN_ID</th>\n",
       "      <th>PROD_NBR</th>\n",
       "      <th>PROD_NAME</th>\n",
       "      <th>PROD_QTY</th>\n",
       "      <th>TOT_SALES</th>\n",
       "    </tr>\n",
       "  </thead>\n",
       "  <tbody>\n",
       "    <tr>\n",
       "      <th>0</th>\n",
       "      <td>2018-10-17</td>\n",
       "      <td>1</td>\n",
       "      <td>1000</td>\n",
       "      <td>1</td>\n",
       "      <td>5</td>\n",
       "      <td>Natural Chip        Compny SeaSalt175g</td>\n",
       "      <td>2</td>\n",
       "      <td>6.0</td>\n",
       "    </tr>\n",
       "    <tr>\n",
       "      <th>1</th>\n",
       "      <td>2019-05-14</td>\n",
       "      <td>1</td>\n",
       "      <td>1307</td>\n",
       "      <td>348</td>\n",
       "      <td>66</td>\n",
       "      <td>CCs Nacho Cheese    175g</td>\n",
       "      <td>3</td>\n",
       "      <td>6.3</td>\n",
       "    </tr>\n",
       "    <tr>\n",
       "      <th>2</th>\n",
       "      <td>2019-05-20</td>\n",
       "      <td>1</td>\n",
       "      <td>1343</td>\n",
       "      <td>383</td>\n",
       "      <td>61</td>\n",
       "      <td>Smiths Crinkle Cut  Chips Chicken 170g</td>\n",
       "      <td>2</td>\n",
       "      <td>2.9</td>\n",
       "    </tr>\n",
       "    <tr>\n",
       "      <th>3</th>\n",
       "      <td>2018-08-17</td>\n",
       "      <td>2</td>\n",
       "      <td>2373</td>\n",
       "      <td>974</td>\n",
       "      <td>69</td>\n",
       "      <td>Smiths Chip Thinly  S/Cream&amp;Onion 175g</td>\n",
       "      <td>5</td>\n",
       "      <td>15.0</td>\n",
       "    </tr>\n",
       "    <tr>\n",
       "      <th>4</th>\n",
       "      <td>2018-08-18</td>\n",
       "      <td>2</td>\n",
       "      <td>2426</td>\n",
       "      <td>1038</td>\n",
       "      <td>108</td>\n",
       "      <td>Kettle Tortilla ChpsHny&amp;Jlpno Chili 150g</td>\n",
       "      <td>3</td>\n",
       "      <td>13.8</td>\n",
       "    </tr>\n",
       "  </tbody>\n",
       "</table>\n",
       "</div>"
      ],
      "text/plain": [
       "         DATE  STORE_NBR  LYLTY_CARD_NBR  TXN_ID  PROD_NBR  \\\n",
       "0  2018-10-17          1            1000       1         5   \n",
       "1  2019-05-14          1            1307     348        66   \n",
       "2  2019-05-20          1            1343     383        61   \n",
       "3  2018-08-17          2            2373     974        69   \n",
       "4  2018-08-18          2            2426    1038       108   \n",
       "\n",
       "                                  PROD_NAME  PROD_QTY  TOT_SALES  \n",
       "0    Natural Chip        Compny SeaSalt175g         2        6.0  \n",
       "1                  CCs Nacho Cheese    175g         3        6.3  \n",
       "2    Smiths Crinkle Cut  Chips Chicken 170g         2        2.9  \n",
       "3    Smiths Chip Thinly  S/Cream&Onion 175g         5       15.0  \n",
       "4  Kettle Tortilla ChpsHny&Jlpno Chili 150g         3       13.8  "
      ]
     },
     "execution_count": 6,
     "metadata": {},
     "output_type": "execute_result"
    }
   ],
   "source": [
    "transaction_data[\"DATE\"] = transaction_data[\"DATE\"].dt.date\n",
    "transaction_data.head()"
   ]
  },
  {
   "cell_type": "markdown",
   "id": "e4f7153f",
   "metadata": {},
   "source": [
    "Now that our dataset includes only dates, let's check the range of dates."
   ]
  },
  {
   "cell_type": "markdown",
   "id": "279550b0",
   "metadata": {},
   "source": [
    "#### Check the date range"
   ]
  },
  {
   "cell_type": "markdown",
   "id": "c800e4c9",
   "metadata": {},
   "source": [
    "##### Check the most common date"
   ]
  },
  {
   "cell_type": "code",
   "execution_count": 7,
   "id": "48e706ea",
   "metadata": {},
   "outputs": [
    {
     "data": {
      "text/plain": [
       "count         264836\n",
       "unique           364\n",
       "top       2018-12-24\n",
       "freq             939\n",
       "Name: DATE, dtype: object"
      ]
     },
     "execution_count": 7,
     "metadata": {},
     "output_type": "execute_result"
    }
   ],
   "source": [
    "transaction_data[\"DATE\"].describe()"
   ]
  },
  {
   "cell_type": "markdown",
   "id": "a1b0ae2f",
   "metadata": {},
   "source": [
    "We can see that the most common date is **2018-12-24**, which falls on Christmas Eve, a peak shopping day when many people purchase gifts and groceries for the holiday season. Now, let's check the earliest and latest dates."
   ]
  },
  {
   "cell_type": "markdown",
   "id": "17eea9c4",
   "metadata": {},
   "source": [
    "##### Check the earliest and latest date"
   ]
  },
  {
   "cell_type": "code",
   "execution_count": 8,
   "id": "7e300b45",
   "metadata": {},
   "outputs": [
    {
     "name": "stdout",
     "output_type": "stream",
     "text": [
      "Earliest date: 2018-07-01\n",
      "Latest date: 2019-06-30\n"
     ]
    }
   ],
   "source": [
    "earliest_date = transaction_data[\"DATE\"].min()\n",
    "latest_date = transaction_data[\"DATE\"].max()\n",
    "\n",
    "print(f\"Earliest date: {earliest_date}\")\n",
    "print(f\"Latest date: {latest_date}\")"
   ]
  },
  {
   "cell_type": "markdown",
   "id": "5b17ff3e",
   "metadata": {},
   "source": [
    "We can see that the dataset represents **a full year's worth of data**, spanning from July 1, 2018, to June 30, 2019. Since neither year includes February 29, the dataset does not contain a leap day. Now, let's verify this by checking if there are exactly 365 unique dates."
   ]
  },
  {
   "cell_type": "markdown",
   "id": "53bbea68",
   "metadata": {},
   "source": [
    "##### Check the number of unique dates"
   ]
  },
  {
   "cell_type": "code",
   "execution_count": 9,
   "id": "138d7124",
   "metadata": {},
   "outputs": [
    {
     "data": {
      "text/plain": [
       "count         264836\n",
       "unique           364\n",
       "top       2018-12-24\n",
       "freq             939\n",
       "Name: DATE, dtype: object"
      ]
     },
     "execution_count": 9,
     "metadata": {},
     "output_type": "execute_result"
    }
   ],
   "source": [
    "transaction_data[\"DATE\"].describe()"
   ]
  },
  {
   "cell_type": "markdown",
   "id": "b5ca235b",
   "metadata": {},
   "source": [
    "The unique count of dates in the `DATE` column is **364**, yet a full year's worth of data should contain 365 days. This discrepancy implies that one date is missing from the dataset. Now, let's check the missing date in the dataset."
   ]
  },
  {
   "cell_type": "markdown",
   "id": "aff799e4",
   "metadata": {},
   "source": [
    "##### Check the missing date"
   ]
  },
  {
   "cell_type": "code",
   "execution_count": null,
   "id": "d7dee56e",
   "metadata": {},
   "outputs": [
    {
     "name": "stdout",
     "output_type": "stream",
     "text": [
      "Missing date: {datetime.date(2018, 12, 25)}\n"
     ]
    }
   ],
   "source": [
    "all_dates = pd.date_range(earliest_date, latest_date)\n",
    "\n",
    "missing_date = set(all_dates.date) - set(transaction_data[\"DATE\"].unique())\n",
    "print(\"Missing date:\", missing_date)"
   ]
  },
  {
   "cell_type": "markdown",
   "id": "0d6f53a8",
   "metadata": {},
   "source": [
    "The missing date in the dataset is **2018-12-25**, which falls on Christmas Day. This suggests that no transactions were recorded on this day, likely because stores were closed for the holiday."
   ]
  },
  {
   "cell_type": "markdown",
   "id": "15d6308c",
   "metadata": {},
   "source": [
    "#####  Visualize the Daily Transaction Distribution"
   ]
  },
  {
   "cell_type": "code",
   "execution_count": null,
   "id": "6766547f",
   "metadata": {},
   "outputs": [
    {
     "data": {
      "image/png": "[encoded data removed]",
      "text/plain": [
       "<Figure size 1200x600 with 1 Axes>"
      ]
     },
     "metadata": {},
     "output_type": "display_data"
    }
   ],
   "source": [
    "plt.figure(figsize=(12, 6))\n",
    "sns.histplot(transaction_data[\"DATE\"], bins=len(all_dates), kde=True)\n",
    "plt.title(\"Daily Transaction Distribution\")\n",
    "plt.xlabel(\"Date\")\n",
    "plt.ylabel(\"Number of Transactions\")\n",
    "plt.xticks(rotation=45)\n",
    "plt.tight_layout()\n",
    "\n",
    "# Save the plot\n",
    "plt.savefig('../outputs/figures/daily_transaction_distribution.png', dpi=300, bbox_inches='tight')\n",
    "\n",
    "# Show the plot\n",
    "plt.show()"
   ]
  },
  {
   "cell_type": "markdown",
   "id": "c1e2c34a",
   "metadata": {},
   "source": [
    "As observed:\n",
    "\n",
    "- **Consistent Transaction Volume**: The stores maintained a steady flow of transactions on most days, indicating stable customer activity.\n",
    "- **Seasonal Peaks**: The noticeable spike on Christmas Eve (2018-12-24) suggests a surge in shopping activity due to holiday preparations, which is typical for retail businesses.\n",
    "- **No Transactions on Christmas Day**: The gap on Christmas Day (2018-12-25) indicates that no transactions were recorded, likely because the stores were closed for the holiday."
   ]
  }
 ],
 "metadata": {
  "kernelspec": {
   "display_name": "Python 3",
   "language": "python",
   "name": "python3"
  },
  "language_info": {
   "codemirror_mode": {
    "name": "ipython",
    "version": 3
   },
   "file_extension": ".py",
   "mimetype": "text/x-python",
   "name": "python",
   "nbconvert_exporter": "python",
   "pygments_lexer": "ipython3",
   "version": "3.13.3"
  }
 },
 "nbformat": 4,
 "nbformat_minor": 5
}
