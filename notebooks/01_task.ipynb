{
 "cells": [
  {
   "cell_type": "markdown",
   "id": "85147fd2",
   "metadata": {},
   "source": [
    "# Task One: Data Preparation and Customer Analytics\n",
    "\n",
    "Conduct analysis on your client's transaction dataset and identify customer purchasing behaviours to generate insights and provide commercial recommendations."
   ]
  }
 ],
 "metadata": {
  "language_info": {
   "name": "python"
  }
 },
 "nbformat": 4,
 "nbformat_minor": 5
}
